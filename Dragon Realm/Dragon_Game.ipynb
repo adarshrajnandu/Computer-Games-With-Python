{
  "nbformat": 4,
  "nbformat_minor": 0,
  "metadata": {
    "colab": {
      "name": "Dragon Game.ipynb",
      "provenance": [],
      "collapsed_sections": []
    },
    "kernelspec": {
      "name": "python3",
      "display_name": "Python 3"
    }
  },
  "cells": [
    {
      "cell_type": "code",
      "metadata": {
        "id": "wDK2faZruFCR",
        "colab_type": "code",
        "colab": {}
      },
      "source": [
        "# Import the modules\n",
        "import random \n",
        "import time"
      ],
      "execution_count": 0,
      "outputs": []
    },
    {
      "cell_type": "code",
      "metadata": {
        "id": "OV8ChvoouWB5",
        "colab_type": "code",
        "colab": {}
      },
      "source": [
        "# define the function to display the intro\n",
        "def display_intro():\n",
        "  print(''' You are in the land full of dragons\n",
        "  In front you, you see two caves. In one cave, the dragon is friendly and will\n",
        "  share his treasures with you. The other dragon is greedy and hungry, and will\n",
        "  eat you on sight.''')\n",
        "  time.sleep(2)\n",
        "  print()"
      ],
      "execution_count": 0,
      "outputs": []
    },
    {
      "cell_type": "code",
      "metadata": {
        "id": "_pJkEQW170Ij",
        "colab_type": "code",
        "colab": {}
      },
      "source": [
        "# Function to decide the cave\n",
        "def choose_cave():\n",
        "  cave = ''\n",
        "  while cave != '1' and cave != '2':\n",
        "    print('Which cave you want to go into? (1 or 2)')\n",
        "    cave = input()\n",
        "\n",
        "  return cave"
      ],
      "execution_count": 0,
      "outputs": []
    },
    {
      "cell_type": "code",
      "metadata": {
        "id": "cv8H-rMh8zN3",
        "colab_type": "code",
        "colab": {}
      },
      "source": [
        "def check_cave(chosen_cave):\n",
        "  print('You have approached the cave...')\n",
        "  print()\n",
        "  time.sleep(2)\n",
        "  print('A dragon has appeared in front of you and!!!..')\n",
        "  print()\n",
        "  time.sleep(1)\n",
        "  print('He has opened his jaws and...')\n",
        "  print()\n",
        "  time.sleep(2)\n",
        "  print()\n",
        "\n",
        "  cave_comp = random.randint(1,2)\n",
        "\n",
        "  if str(cave_comp) == chosen_cave:\n",
        "    print('He gives you the treasure....')\n",
        "  else:\n",
        "    print('You have been eaten by the dragon....')\n",
        " "
      ],
      "execution_count": 0,
      "outputs": []
    },
    {
      "cell_type": "code",
      "metadata": {
        "id": "G7BuPAwV_-Ub",
        "colab_type": "code",
        "colab": {}
      },
      "source": [
        "play_again = 'yes'\n",
        "while play_again == 'yes' or play_again == 'y':\n",
        "    display_intro()\n",
        "    cave_number = choose_cave()\n",
        "    check_cave(cave_number)\n",
        "\n",
        "    print('Do you want to play one more time? (yes or no)')\n",
        "    play_again = input()"
      ],
      "execution_count": 0,
      "outputs": []
    },
    {
      "cell_type": "code",
      "metadata": {
        "id": "W52GxwKvAyzi",
        "colab_type": "code",
        "colab": {}
      },
      "source": [
        ""
      ],
      "execution_count": 0,
      "outputs": []
    }
  ]
}